{
 "cells": [
  {
   "cell_type": "code",
   "execution_count": 12,
   "id": "a344bbe0-a30a-44c5-8c79-082905a8b200",
   "metadata": {},
   "outputs": [],
   "source": [
    "import cv2\n",
    "from matplotlib import pyplot as plt\n",
    "import os\n",
    "import pandas as pd\n",
    "import numpy as np\n",
    "\n",
    "from sklearn.preprocessing import StandardScaler\n",
    "from sklearn.model_selection import train_test_split\n",
    "from sklearn.neighbors import KNeighborsClassifier\n",
    "from sklearn.metrics import accuracy_score"
   ]
  },
  {
   "cell_type": "code",
   "execution_count": 13,
   "id": "09ab3bd4-153d-42f8-bdbe-96038e508b49",
   "metadata": {},
   "outputs": [],
   "source": [
    "df = pd.read_csv('train.csv')"
   ]
  },
  {
   "cell_type": "code",
   "execution_count": 49,
   "id": "4f3e79e8-67da-4e8f-beda-05dd171791b6",
   "metadata": {},
   "outputs": [],
   "source": [
    "images = []\n",
    "folder = 'All'\n",
    "for filename in df['id_code']:\n",
    "    img = cv2.imread(os.path.join(folder, filename +'.png'))\n",
    "    if img is not None:\n",
    "        image_rgb = cv2.cvtColor(img, cv2.COLOR_BGR2RGB)\n",
    "        flattened_image = image_rgb.flatten()\n",
    "        images.append(flattened_image)"
   ]
  },
  {
   "cell_type": "code",
   "execution_count": 50,
   "id": "c62d1071-1451-4651-af02-0e79a1d8adfd",
   "metadata": {},
   "outputs": [],
   "source": [
    "idf = pd.DataFrame({'image': images})"
   ]
  },
  {
   "cell_type": "code",
   "execution_count": 51,
   "id": "5346e1a6-3ab7-4d60-a6c9-d61ae0870728",
   "metadata": {},
   "outputs": [],
   "source": [
    "data = pd.concat([df, idf], axis = 1)"
   ]
  },
  {
   "cell_type": "code",
   "execution_count": 52,
   "id": "dad62b93-8fbb-4e13-b0f3-c8c802fa7c93",
   "metadata": {},
   "outputs": [
    {
     "data": {
      "text/html": [
       "<div>\n",
       "<style scoped>\n",
       "    .dataframe tbody tr th:only-of-type {\n",
       "        vertical-align: middle;\n",
       "    }\n",
       "\n",
       "    .dataframe tbody tr th {\n",
       "        vertical-align: top;\n",
       "    }\n",
       "\n",
       "    .dataframe thead th {\n",
       "        text-align: right;\n",
       "    }\n",
       "</style>\n",
       "<table border=\"1\" class=\"dataframe\">\n",
       "  <thead>\n",
       "    <tr style=\"text-align: right;\">\n",
       "      <th></th>\n",
       "      <th>id_code</th>\n",
       "      <th>diagnosis</th>\n",
       "      <th>image</th>\n",
       "    </tr>\n",
       "  </thead>\n",
       "  <tbody>\n",
       "    <tr>\n",
       "      <th>0</th>\n",
       "      <td>000c1434d8d7</td>\n",
       "      <td>2</td>\n",
       "      <td>[44, 16, 2, 45, 16, 3, 46, 16, 3, 46, 16, 3, 4...</td>\n",
       "    </tr>\n",
       "    <tr>\n",
       "      <th>1</th>\n",
       "      <td>001639a390f0</td>\n",
       "      <td>4</td>\n",
       "      <td>[74, 30, 4, 76, 31, 5, 77, 32, 5, 78, 33, 5, 8...</td>\n",
       "    </tr>\n",
       "    <tr>\n",
       "      <th>2</th>\n",
       "      <td>0024cdab0c1e</td>\n",
       "      <td>1</td>\n",
       "      <td>[31, 7, 1, 32, 7, 1, 34, 7, 1, 35, 8, 1, 37, 8...</td>\n",
       "    </tr>\n",
       "    <tr>\n",
       "      <th>3</th>\n",
       "      <td>002c21358ce6</td>\n",
       "      <td>0</td>\n",
       "      <td>[36, 15, 5, 39, 16, 6, 41, 18, 6, 44, 19, 7, 4...</td>\n",
       "    </tr>\n",
       "    <tr>\n",
       "      <th>4</th>\n",
       "      <td>005b95c28852</td>\n",
       "      <td>0</td>\n",
       "      <td>[23, 8, 0, 25, 10, 0, 25, 11, 0, 25, 11, 0, 25...</td>\n",
       "    </tr>\n",
       "    <tr>\n",
       "      <th>...</th>\n",
       "      <td>...</td>\n",
       "      <td>...</td>\n",
       "      <td>...</td>\n",
       "    </tr>\n",
       "    <tr>\n",
       "      <th>3657</th>\n",
       "      <td>ffa47f6a7bf4</td>\n",
       "      <td>2</td>\n",
       "      <td>[64, 24, 3, 65, 24, 3, 66, 25, 3, 67, 25, 3, 6...</td>\n",
       "    </tr>\n",
       "    <tr>\n",
       "      <th>3658</th>\n",
       "      <td>ffc04fed30e6</td>\n",
       "      <td>0</td>\n",
       "      <td>[9, 2, 0, 10, 2, 0, 11, 2, 0, 12, 3, 0, 13, 2,...</td>\n",
       "    </tr>\n",
       "    <tr>\n",
       "      <th>3659</th>\n",
       "      <td>ffcf7b45f213</td>\n",
       "      <td>2</td>\n",
       "      <td>[43, 14, 1, 44, 14, 1, 46, 15, 1, 48, 17, 1, 4...</td>\n",
       "    </tr>\n",
       "    <tr>\n",
       "      <th>3660</th>\n",
       "      <td>ffd97f8cd5aa</td>\n",
       "      <td>0</td>\n",
       "      <td>[38, 16, 3, 40, 17, 4, 42, 18, 4, 44, 18, 4, 4...</td>\n",
       "    </tr>\n",
       "    <tr>\n",
       "      <th>3661</th>\n",
       "      <td>ffec9a18a3ce</td>\n",
       "      <td>2</td>\n",
       "      <td>[11, 3, 1, 11, 3, 1, 11, 3, 2, 12, 4, 2, 12, 4...</td>\n",
       "    </tr>\n",
       "  </tbody>\n",
       "</table>\n",
       "<p>3662 rows × 3 columns</p>\n",
       "</div>"
      ],
      "text/plain": [
       "           id_code  diagnosis  \\\n",
       "0     000c1434d8d7          2   \n",
       "1     001639a390f0          4   \n",
       "2     0024cdab0c1e          1   \n",
       "3     002c21358ce6          0   \n",
       "4     005b95c28852          0   \n",
       "...            ...        ...   \n",
       "3657  ffa47f6a7bf4          2   \n",
       "3658  ffc04fed30e6          0   \n",
       "3659  ffcf7b45f213          2   \n",
       "3660  ffd97f8cd5aa          0   \n",
       "3661  ffec9a18a3ce          2   \n",
       "\n",
       "                                                  image  \n",
       "0     [44, 16, 2, 45, 16, 3, 46, 16, 3, 46, 16, 3, 4...  \n",
       "1     [74, 30, 4, 76, 31, 5, 77, 32, 5, 78, 33, 5, 8...  \n",
       "2     [31, 7, 1, 32, 7, 1, 34, 7, 1, 35, 8, 1, 37, 8...  \n",
       "3     [36, 15, 5, 39, 16, 6, 41, 18, 6, 44, 19, 7, 4...  \n",
       "4     [23, 8, 0, 25, 10, 0, 25, 11, 0, 25, 11, 0, 25...  \n",
       "...                                                 ...  \n",
       "3657  [64, 24, 3, 65, 24, 3, 66, 25, 3, 67, 25, 3, 6...  \n",
       "3658  [9, 2, 0, 10, 2, 0, 11, 2, 0, 12, 3, 0, 13, 2,...  \n",
       "3659  [43, 14, 1, 44, 14, 1, 46, 15, 1, 48, 17, 1, 4...  \n",
       "3660  [38, 16, 3, 40, 17, 4, 42, 18, 4, 44, 18, 4, 4...  \n",
       "3661  [11, 3, 1, 11, 3, 1, 11, 3, 2, 12, 4, 2, 12, 4...  \n",
       "\n",
       "[3662 rows x 3 columns]"
      ]
     },
     "execution_count": 52,
     "metadata": {},
     "output_type": "execute_result"
    }
   ],
   "source": [
    "data"
   ]
  },
  {
   "cell_type": "raw",
   "id": "2609b686-44ec-448b-9e0e-3c8330374e16",
   "metadata": {},
   "source": [
    "Model"
   ]
  },
  {
   "cell_type": "code",
   "execution_count": 58,
   "id": "4dcbce42-db0e-4d1e-bd85-f548910ebd1f",
   "metadata": {},
   "outputs": [
    {
     "name": "stdout",
     "output_type": "stream",
     "text": [
      "Accuracy: 0.6712141882673943\n"
     ]
    }
   ],
   "source": [
    "X = np.vstack(images)\n",
    "y= np.array(df['diagnosis'])\n",
    "\n",
    "X_train, X_test, y_train, y_test = train_test_split(X, y, test_size=0.2, random_state=42)\n",
    "\n",
    "#scaler = StandardScaler()\n",
    "#scaler.fit(X_train)\n",
    "#X_train = scaler.transform(X_train)\n",
    "#y_test = scaler.transform(X_test)\n",
    "\n",
    "knn = KNeighborsClassifier(n_neighbors=10)\n",
    "\n",
    "knn.fit(X_train, y_train)\n",
    "\n",
    "y_pred = knn.predict(X_test)\n",
    "\n",
    "accuracy = accuracy_score(y_test, y_pred)\n",
    "print(\"Accuracy:\", accuracy) "
   ]
  },
  {
   "cell_type": "code",
   "execution_count": null,
   "id": "d8c7348a-885b-4a5a-8685-6c33d388b6f5",
   "metadata": {},
   "outputs": [],
   "source": []
  }
 ],
 "metadata": {
  "kernelspec": {
   "display_name": "Python 3 (ipykernel)",
   "language": "python",
   "name": "python3"
  },
  "language_info": {
   "codemirror_mode": {
    "name": "ipython",
    "version": 3
   },
   "file_extension": ".py",
   "mimetype": "text/x-python",
   "name": "python",
   "nbconvert_exporter": "python",
   "pygments_lexer": "ipython3",
   "version": "3.11.7"
  }
 },
 "nbformat": 4,
 "nbformat_minor": 5
}
